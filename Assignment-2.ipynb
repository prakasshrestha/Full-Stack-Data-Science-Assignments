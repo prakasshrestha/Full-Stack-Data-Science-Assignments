{
 "cells": [
  {
   "cell_type": "markdown",
   "id": "8c845745",
   "metadata": {},
   "source": [
    "# Assinment-2"
   ]
  },
  {
   "cell_type": "markdown",
   "id": "88a60820",
   "metadata": {},
   "source": [
    "### 1. What are the two values of the Boolean data type? How do you write them?\n",
    "\n",
    "=> The two values of the boolean data type are `1.True` , `2. False`."
   ]
  },
  {
   "cell_type": "code",
   "execution_count": 1,
   "id": "daa07e09",
   "metadata": {},
   "outputs": [
    {
     "data": {
      "text/plain": [
       "(True, False)"
      ]
     },
     "execution_count": 1,
     "metadata": {},
     "output_type": "execute_result"
    }
   ],
   "source": [
    "a,b = True, False\n",
    "a, b"
   ]
  },
  {
   "cell_type": "markdown",
   "id": "a0e872a3",
   "metadata": {},
   "source": [
    "### 2. What are the three different types of Boolean operators?\n",
    "\n",
    "=> The three different types of boolean operators are.\n",
    "* The AND operator `&&` or `and`\n",
    "* The OR operator `||` or `or`\n",
    "* The NOT operator `not`"
   ]
  },
  {
   "cell_type": "markdown",
   "id": "3a990759",
   "metadata": {},
   "source": [
    "### 3.Make a list of each Boolean operator&#39;s truth tables (i.e. every possible combination of Boolean values for the operator and what it evaluate )."
   ]
  },
  {
   "cell_type": "code",
   "execution_count": 14,
   "id": "5dc9ed9d",
   "metadata": {},
   "outputs": [
    {
     "data": {
      "text/plain": [
       "[True, True, False, True, True, False, True]"
      ]
     },
     "execution_count": 14,
     "metadata": {},
     "output_type": "execute_result"
    }
   ],
   "source": [
    "list1 = [True,True,False,True,True,False,True]\n",
    "list1"
   ]
  },
  {
   "cell_type": "code",
   "execution_count": 19,
   "id": "c16144aa",
   "metadata": {},
   "outputs": [
    {
     "name": "stdout",
     "output_type": "stream",
     "text": [
      "True\n",
      "False\n",
      "False\n",
      "True\n",
      "True\n",
      "True\n"
     ]
    }
   ],
   "source": [
    "print(True and True)\n",
    "print(True and False)\n",
    "print(False and True)\n",
    "print(True or True)\n",
    "print(True or False)\n",
    "print(False or True)"
   ]
  },
  {
   "cell_type": "markdown",
   "id": "986f3c62",
   "metadata": {},
   "source": [
    "### 4. What are the values of the following expressions?\n",
    "\n",
    "(5 > 4) and (3 == 5) => `False`\n",
    "\n",
    "not (5 > 4) => `False`\n",
    "\n",
    "(5 > 4) or (3 == 5)  => ` True`\n",
    "\n",
    "not ((5 > 4) or (3 == 5)) => ` False`\n",
    "\n",
    "(True and True) and (True == False) =>`False`\n",
    "\n",
    "(not False) or (not True) => `True`"
   ]
  },
  {
   "cell_type": "code",
   "execution_count": 4,
   "id": "ed2da9d6",
   "metadata": {},
   "outputs": [
    {
     "data": {
      "text/plain": [
       "False"
      ]
     },
     "execution_count": 4,
     "metadata": {},
     "output_type": "execute_result"
    }
   ],
   "source": [
    "(5>4) and (3==5)"
   ]
  },
  {
   "cell_type": "code",
   "execution_count": 5,
   "id": "090b5eae",
   "metadata": {},
   "outputs": [
    {
     "data": {
      "text/plain": [
       "False"
      ]
     },
     "execution_count": 5,
     "metadata": {},
     "output_type": "execute_result"
    }
   ],
   "source": [
    "not(5>4)"
   ]
  },
  {
   "cell_type": "code",
   "execution_count": 6,
   "id": "2bf894e0",
   "metadata": {},
   "outputs": [
    {
     "data": {
      "text/plain": [
       "True"
      ]
     },
     "execution_count": 6,
     "metadata": {},
     "output_type": "execute_result"
    }
   ],
   "source": [
    "(5>4) or (3==5)"
   ]
  },
  {
   "cell_type": "code",
   "execution_count": 7,
   "id": "f6dfef77",
   "metadata": {},
   "outputs": [
    {
     "data": {
      "text/plain": [
       "False"
      ]
     },
     "execution_count": 7,
     "metadata": {},
     "output_type": "execute_result"
    }
   ],
   "source": [
    "not((5>4) or (3==5))"
   ]
  },
  {
   "cell_type": "code",
   "execution_count": 8,
   "id": "9b7aaad6",
   "metadata": {},
   "outputs": [
    {
     "data": {
      "text/plain": [
       "False"
      ]
     },
     "execution_count": 8,
     "metadata": {},
     "output_type": "execute_result"
    }
   ],
   "source": [
    "(True and True) and (True == False)"
   ]
  },
  {
   "cell_type": "code",
   "execution_count": 9,
   "id": "f592c069",
   "metadata": {},
   "outputs": [
    {
     "data": {
      "text/plain": [
       "True"
      ]
     },
     "execution_count": 9,
     "metadata": {},
     "output_type": "execute_result"
    }
   ],
   "source": [
    "(not False) or (not True)"
   ]
  },
  {
   "cell_type": "markdown",
   "id": "5738290d",
   "metadata": {},
   "source": [
    "### 5. What are the six comparison operators?\n",
    "\n",
    "* Less than.   => ` <`\n",
    "* Greater than.  => `>`\n",
    "* Less than or equal to. => `<=`\n",
    "* Greater than and equal to. => `>=`\n",
    "* Equal to.  => `==`\n",
    "* not equal to.  => `!=`\n"
   ]
  },
  {
   "cell_type": "markdown",
   "id": "4dcdbb3f",
   "metadata": {},
   "source": [
    "### 6. How do you tell the difference between the equal to and assignment operators?Describe a condition and when you would use one.\n",
    "\n",
    "=> `equal to == `:  It Compared two operands if both are equal then it returns true otherwise returns false. It would use when we need to compare whether two values both are equal or not that situation we should use it.\n",
    "\n",
    "`assignment operator =` : An assignment operator is used to assign the value of the right side of the expression to the left side operand. When we need to assign a value to a variable in that situation we would use it."
   ]
  },
  {
   "cell_type": "markdown",
   "id": "725a6675",
   "metadata": {},
   "source": [
    "### 7. Identify the three blocks in this code:\n",
    "\n",
    "spam = 0\n",
    "\n",
    "if spam == 10:\n",
    "\n",
    "    print('eggs')\n",
    "    \n",
    "if spam>5:\n",
    "\n",
    "    print('bacon')\n",
    "else:\n",
    "\n",
    "    print('ham')\n",
    "    \n",
    "    print('spam)\n",
    "    \n",
    "    print('spam)\n",
    "    \n",
    "`result  : ham, spam, spam`"
   ]
  },
  {
   "cell_type": "code",
   "execution_count": 10,
   "id": "112db79d",
   "metadata": {},
   "outputs": [
    {
     "name": "stdout",
     "output_type": "stream",
     "text": [
      "ham\n",
      "spam\n",
      "spam\n"
     ]
    }
   ],
   "source": [
    "spam = 0\n",
    "if spam ==10:\n",
    "    print('eggs')\n",
    "if spam>5:\n",
    "    print('bacon')\n",
    "else:\n",
    "    print('ham')\n",
    "    print('spam')\n",
    "    print('spam')"
   ]
  },
  {
   "cell_type": "markdown",
   "id": "6744c240",
   "metadata": {},
   "source": [
    "### 8. Write code that prints Hello if 1 is stored in spam, prints Howdy if 2 is stored in spam, and prints Greetings! if anything else is stored in spam."
   ]
  },
  {
   "cell_type": "code",
   "execution_count": 11,
   "id": "ec3ef5a2",
   "metadata": {},
   "outputs": [
    {
     "name": "stdout",
     "output_type": "stream",
     "text": [
      "Hello\n"
     ]
    }
   ],
   "source": [
    "spam = 1\n",
    "if spam == 1:\n",
    "    print('Hello')\n",
    "elif spam==2:\n",
    "    print('Howday')\n",
    "else:\n",
    "    print(\"Greetings\")"
   ]
  },
  {
   "cell_type": "markdown",
   "id": "7a70b7cd",
   "metadata": {},
   "source": [
    "### 9. If your programme is stuck in an endless loop, what keys you’ll press?\n",
    "\n",
    "=> `we will press CTR + Z command from the keybord`"
   ]
  },
  {
   "cell_type": "markdown",
   "id": "88466e59",
   "metadata": {},
   "source": [
    "### 10. How can you tell the difference between break and continue?\n",
    "=> \n",
    "`Break` :keyword terminates the execution of remaining iteration of the loop. The break stops the continuation of loop. when we want to stop loop we should use `Break` keyword in the loop.\n",
    "\n",
    "`Continues` : Continue keyword terminates only the current iteration of the loop. The continue does not stops the continuation of loop, it only stops the current iteration."
   ]
  },
  {
   "cell_type": "markdown",
   "id": "b2c6fcbb",
   "metadata": {},
   "source": [
    "### 11. In a for loop, what is the difference between range(10), range(0, 10), and range(0, 10, 1)?\n",
    "\n",
    "=> There is no difference between range(10), range(0,10)and range(0,10,1) Python range function takes 3 arguments and they are start value, stop value and increment value. When we give only range(10), the starting value is 0, the stop value is 10 and the increment value is by default 1."
   ]
  },
  {
   "cell_type": "markdown",
   "id": "ebd9998e",
   "metadata": {},
   "source": [
    "###  12. Write a short program that prints the numbers 1 to 10 using a for loop. Then write an equivalent program that prints the numbers 1 to 10 using a while loop."
   ]
  },
  {
   "cell_type": "code",
   "execution_count": 12,
   "id": "c48c615c",
   "metadata": {},
   "outputs": [
    {
     "name": "stdout",
     "output_type": "stream",
     "text": [
      "1 2 3 4 5 6 7 8 9 10 "
     ]
    }
   ],
   "source": [
    "for i in range(1,11):\n",
    "    print(i, end=\" \")"
   ]
  },
  {
   "cell_type": "code",
   "execution_count": 13,
   "id": "36bc1ff6",
   "metadata": {},
   "outputs": [
    {
     "name": "stdout",
     "output_type": "stream",
     "text": [
      "1 2 3 4 5 6 7 8 9 10 "
     ]
    }
   ],
   "source": [
    "count = 1\n",
    "while count<=10:\n",
    "    print(count,end = \" \")\n",
    "    count+=1"
   ]
  },
  {
   "cell_type": "markdown",
   "id": "c3df4b27",
   "metadata": {},
   "source": [
    "### 13. If you had a function named bacon() inside a module named spam, how would you call it after importing spam?\n",
    "\n",
    "=> `spam.balcon()`"
   ]
  },
  {
   "cell_type": "code",
   "execution_count": null,
   "id": "cb99b3b7",
   "metadata": {},
   "outputs": [],
   "source": []
  }
 ],
 "metadata": {
  "kernelspec": {
   "display_name": "Python 3 (ipykernel)",
   "language": "python",
   "name": "python3"
  },
  "language_info": {
   "codemirror_mode": {
    "name": "ipython",
    "version": 3
   },
   "file_extension": ".py",
   "mimetype": "text/x-python",
   "name": "python",
   "nbconvert_exporter": "python",
   "pygments_lexer": "ipython3",
   "version": "3.9.7"
  }
 },
 "nbformat": 4,
 "nbformat_minor": 5
}
