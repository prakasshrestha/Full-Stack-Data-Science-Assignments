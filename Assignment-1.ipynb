{
 "cells": [
  {
   "cell_type": "markdown",
   "id": "85e26bc9",
   "metadata": {},
   "source": [
    "# Assignment 1"
   ]
  },
  {
   "cell_type": "markdown",
   "id": "6ff80da1",
   "metadata": {},
   "source": [
    "### 1. In the below elemetns which of them are values or an expression? eg:- values can be integer or string and expressions will be mathematical operators."
   ]
  },
  {
   "cell_type": "raw",
   "id": "d257921f",
   "metadata": {},
   "source": [
    "*       => This is a mathematical expression.\n",
    "'hello' => This is a string value (str) \n",
    "-87.8   => This is a float value \n",
    "-       => This is a mathematical expression.\n",
    "/       => This is a mathmatical expression.\n",
    "6       => 6 is a integer value (int)"
   ]
  },
  {
   "cell_type": "markdown",
   "id": "793f4520",
   "metadata": {},
   "source": [
    "### 2. What is the difference between string and variable ?\n",
    "\n",
    "=> The string represents text, and the variable is a name that can store any value.\n",
    "\n",
    "  `example : name = \"abcd\"` \n",
    "    here, name is a variable name and prakas is a string value."
   ]
  },
  {
   "cell_type": "markdown",
   "id": "c0061caa",
   "metadata": {},
   "source": [
    "### 3. Describe three different data types. \n",
    "* integer => Integer data type contains positive or negative whole numbers \n",
    " `example: num = 23`\n",
    " \n",
    "* string => the String is a collection of one or more characters put in a single or double or triple quotation. `example : name = \"abcd\", name = 'abcd', name = \"\"\"abcd\"\"\"`\n",
    "\n",
    "* boolean =>  boolean data type has two values : True and False"
   ]
  },
  {
   "cell_type": "markdown",
   "id": "0b71c7c9",
   "metadata": {},
   "source": [
    "### 4. What is an expression made up of? What  do all expressions do?\n",
    "\n",
    "=> An expression is a combination of operators and operands that is interpreted to produce some other value. "
   ]
  },
  {
   "cell_type": "markdown",
   "id": "878643b1",
   "metadata": {},
   "source": [
    "## 5. This assignment statments, like spam = 10. What is the difference between an expression and a statement?\n",
    "\n",
    "=>  An expression is a combination of operators and operands.Here `spam` and `10` is an Operands and `=`is an operator. It whole combination called expression. A statement is an instruction that the Python interpreter can understand and execute. `example : spam = 10 ` this is an expression and also a statement because it performs some action. "
   ]
  },
  {
   "cell_type": "markdown",
   "id": "f085a2b2",
   "metadata": {},
   "source": [
    "### 6.After running the following code, what does the variable bacon contain? \n",
    "\n",
    "bacon = 22\n",
    "\n",
    "bacon +1"
   ]
  },
  {
   "cell_type": "code",
   "execution_count": 97,
   "id": "233e30a0",
   "metadata": {},
   "outputs": [
    {
     "data": {
      "text/plain": [
       "23"
      ]
     },
     "execution_count": 97,
     "metadata": {},
     "output_type": "execute_result"
    }
   ],
   "source": [
    "bacon = 22\n",
    "bacon+1"
   ]
  },
  {
   "cell_type": "markdown",
   "id": "93c5c9b2",
   "metadata": {},
   "source": [
    "### 7.What should the values of the following two terms be ? \n",
    "\n",
    "'spam' + 'spamspam'\n",
    "\n",
    "'spam' *3"
   ]
  },
  {
   "cell_type": "code",
   "execution_count": 98,
   "id": "6833aba8",
   "metadata": {},
   "outputs": [
    {
     "data": {
      "text/plain": [
       "'spamspamspam'"
      ]
     },
     "execution_count": 98,
     "metadata": {},
     "output_type": "execute_result"
    }
   ],
   "source": [
    "'spam' + 'spamspam'"
   ]
  },
  {
   "cell_type": "code",
   "execution_count": 99,
   "id": "dd2ca582",
   "metadata": {},
   "outputs": [
    {
     "data": {
      "text/plain": [
       "'spamspamspam'"
      ]
     },
     "execution_count": 99,
     "metadata": {},
     "output_type": "execute_result"
    }
   ],
   "source": [
    "'spam' *3 "
   ]
  },
  {
   "cell_type": "markdown",
   "id": "14578ce6",
   "metadata": {},
   "source": [
    "### 8. Why is eggs a valid variable name while 100 is invalid?\n",
    "\n",
    "=> A variable name must start with a letter or the underscore charector. That is a reason  eggs is a valid variable but 100 is invalid. "
   ]
  },
  {
   "cell_type": "markdown",
   "id": "98f3b7e3",
   "metadata": {},
   "source": [
    "### 9. 9. What three functions can be used to get the integer, floating-point number, or string version of a value?\n",
    "\n",
    "=> \n",
    "* integer number  `int()`\n",
    "* floating-poin number  ` float()`\n",
    "* string version `str()`"
   ]
  },
  {
   "cell_type": "markdown",
   "id": "4f07787a",
   "metadata": {},
   "source": [
    "### 10. Why does this expression cause an error? How can you fix it?\n",
    "'I have eaten + 99 + 'burritos.'\n",
    "\n",
    "=> Because We can't concatenate string and integer. ` I have etten` is a string value  and `99` is a int value. if we want to concatenate string and integer we must convert integer value to string like `str(99)`."
   ]
  },
  {
   "cell_type": "code",
   "execution_count": 104,
   "id": "c3e657f5",
   "metadata": {},
   "outputs": [
    {
     "data": {
      "text/plain": [
       "'I have eaten99burritos'"
      ]
     },
     "execution_count": 104,
     "metadata": {},
     "output_type": "execute_result"
    }
   ],
   "source": [
    "'I have eaten' + str(99) + 'burritos'"
   ]
  },
  {
   "cell_type": "code",
   "execution_count": null,
   "id": "bb0e3e0b",
   "metadata": {},
   "outputs": [],
   "source": []
  }
 ],
 "metadata": {
  "kernelspec": {
   "display_name": "Python 3 (ipykernel)",
   "language": "python",
   "name": "python3"
  },
  "language_info": {
   "codemirror_mode": {
    "name": "ipython",
    "version": 3
   },
   "file_extension": ".py",
   "mimetype": "text/x-python",
   "name": "python",
   "nbconvert_exporter": "python",
   "pygments_lexer": "ipython3",
   "version": "3.9.7"
  }
 },
 "nbformat": 4,
 "nbformat_minor": 5
}
